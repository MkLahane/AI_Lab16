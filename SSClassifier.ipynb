{
 "cells": [
  {
   "cell_type": "code",
   "execution_count": 3,
   "id": "1025214f",
   "metadata": {},
   "outputs": [],
   "source": [
    "import pandas as pd\n",
    "from numpy import mean, std\n",
    "from scipy.stats import norm\n",
    "\n",
    "def calculate_mean(X):\n",
    "    return mean(X)\n",
    "\n",
    "def get_votes(columns, X, occupied_means, not_occupied_means):\n",
    "    occupied_score = not_occupied_score = 0\n",
    "    for column in columns:\n",
    "        diff_occupied = abs(occupied_means[column] - X[column])\n",
    "        diff_not_occupied = abs(not_occupied_means[column] - X[column])\n",
    "        if diff_occupied < diff_not_occupied:\n",
    "            occupied_score += 1\n",
    "        else:\n",
    "            not_occupied_score += 1\n",
    "    \n",
    "    return 1 if occupied_score < not_occupied_score else 0"
   ]
  },
  {
   "cell_type": "code",
   "execution_count": 4,
   "id": "07913206",
   "metadata": {},
   "outputs": [],
   "source": [
    "def train(filename):\n",
    "    df = pd.read_csv(filename)\n",
    "    correct_targets = 0\n",
    "    if 'id' in df.columns:\n",
    "        df.drop(['id'], axis='columns',inplace=True)\n",
    "    if 'date' in df.columns:\n",
    "        df.drop(['date'], axis='columns',inplace=True)\n",
    "    targets = df['Occupancy']\n",
    "    inputs = df.drop('Occupancy', axis='columns')\n",
    "\n",
    "    occupied_inputs = inputs[targets == 0]\n",
    "    not_occupied_inputs = inputs[targets == 1]\n",
    "    occupied_prob = len(occupied_inputs) / len(inputs)\n",
    "    not_occupied_prob = len(not_occupied_inputs) / len(targets)\n",
    "\n",
    "    occupied_means = {}\n",
    "    for column in inputs.columns:\n",
    "        occupied_means[column] = calculate_mean(occupied_inputs[column])\n",
    "    \n",
    "    not_occupied_means = {}\n",
    "    for column in inputs.columns:\n",
    "        not_occupied_means[column] = calculate_mean(not_occupied_inputs[column])\n",
    "    \n",
    "    correct_targets = 0\n",
    "\n",
    "    for i in range(len(occupied_inputs)):\n",
    "        prediction = get_votes(inputs.columns, occupied_inputs.iloc[i], occupied_means, not_occupied_means)\n",
    "        if prediction == 0:\n",
    "            correct_targets += 1\n",
    "    \n",
    "    for i in range(len(not_occupied_inputs)):\n",
    "        prediction = get_votes(inputs.columns, not_occupied_inputs.iloc[i], occupied_means, not_occupied_means)\n",
    "        if prediction == 1:\n",
    "            correct_targets += 1\n",
    "    \n",
    "    return correct_targets / (len(occupied_inputs) + len(not_occupied_inputs)), occupied_means, not_occupied_means\n",
    "\n",
    "def evaluate(test_filename, occupied_means, not_occupied_means):\n",
    "    df = pd.read_csv(test_filename)\n",
    "    correct_targets = 0\n",
    "    if 'id' in df.columns:\n",
    "        df.drop(['id'], axis='columns',inplace=True)\n",
    "    if 'date' in df.columns:\n",
    "        df.drop(['date'], axis='columns',inplace=True)\n",
    "    targets = df['Occupancy']\n",
    "    inputs = df.drop('Occupancy', axis='columns')\n",
    "\n",
    "    occupied_inputs = inputs[targets == 0]\n",
    "    not_occupied_inputs = inputs[targets == 1]\n",
    "    occupied_prob = len(occupied_inputs) / len(inputs)\n",
    "    not_occupied_prob = len(not_occupied_inputs) / len(targets)\n",
    "\n",
    "    correct_targets = 0\n",
    "\n",
    "    for i in range(len(occupied_inputs)):\n",
    "        prediction = get_votes(inputs.columns, occupied_inputs.iloc[i], occupied_means, not_occupied_means)\n",
    "        if prediction == 0:\n",
    "            correct_targets += 1\n",
    "    \n",
    "    for i in range(len(not_occupied_inputs)):\n",
    "        prediction = get_votes(inputs.columns, not_occupied_inputs.iloc[i], occupied_means, not_occupied_means)\n",
    "        if prediction == 1:\n",
    "            correct_targets += 1\n",
    "    \n",
    "    return correct_targets / (len(occupied_inputs) + len(not_occupied_inputs))"
   ]
  },
  {
   "cell_type": "code",
   "execution_count": 5,
   "id": "a5fd9c5e",
   "metadata": {},
   "outputs": [
    {
     "name": "stdout",
     "output_type": "stream",
     "text": [
      "Training data result, Accuracy:  0.9070367186540587\n",
      "Test 1 data result,   Accuracy:  0.8431519699812383\n",
      "Test 2 data result,   Accuracy:  0.7898892534864643\n"
     ]
    }
   ],
   "source": [
    "acc, occupied_means, not_occupied_means = train(\"./occupancy_data/datatraining.csv\")\n",
    "print(\"Training data result, Accuracy: \", acc)\n",
    "print(\"Test 1 data result,   Accuracy: \", evaluate(\"./occupancy_data/datatest.csv\", occupied_means, not_occupied_means))\n",
    "print(\"Test 2 data result,   Accuracy: \", evaluate(\"./occupancy_data/datatest2.csv\", occupied_means, not_occupied_means))"
   ]
  }
 ],
 "metadata": {
  "kernelspec": {
   "display_name": "Python 3 (ipykernel)",
   "language": "python",
   "name": "python3"
  },
  "language_info": {
   "codemirror_mode": {
    "name": "ipython",
    "version": 3
   },
   "file_extension": ".py",
   "mimetype": "text/x-python",
   "name": "python",
   "nbconvert_exporter": "python",
   "pygments_lexer": "ipython3",
   "version": "3.8.2"
  }
 },
 "nbformat": 4,
 "nbformat_minor": 5
}
