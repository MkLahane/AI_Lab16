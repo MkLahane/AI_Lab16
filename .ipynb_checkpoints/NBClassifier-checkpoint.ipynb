{
 "cells": [
  {
   "cell_type": "code",
   "execution_count": 10,
   "id": "ab247d39",
   "metadata": {},
   "outputs": [],
   "source": [
    "import pandas as pd\n",
    "from numpy import mean, std\n",
    "from scipy.stats import norm\n",
    "\n",
    "def fit_distribution(X):\n",
    "    m = mean(X) #get mean for current variable\n",
    "    std_dev = std(X) #get standard deviation for current variable\n",
    "    #print(m, std_dev)\n",
    "    dist = norm(m, std_dev)\n",
    "    return dist\n",
    "\n",
    "def probability(columns, X, prob, dist):\n",
    "    p = 1\n",
    "    for column in columns:\n",
    "        p *= dist[column].pdf(X[column])\n",
    "    return prob * p"
   ]
  },
  {
   "cell_type": "code",
   "execution_count": 11,
   "id": "538d9e54",
   "metadata": {},
   "outputs": [],
   "source": [
    "def train(filename):\n",
    "    df = pd.read_csv(filename)\n",
    "    correct_targets = 0\n",
    "    if 'id' in df.columns:\n",
    "        df.drop(['id'], axis='columns',inplace=True)\n",
    "    if 'date' in df.columns:\n",
    "        df.drop(['date'], axis='columns',inplace=True)\n",
    "    targets = df['Occupancy']\n",
    "    inputs = df.drop('Occupancy', axis='columns')\n",
    "\n",
    "    occupied_inputs = inputs[targets == 0]\n",
    "    not_occupied_inputs = inputs[targets == 1]\n",
    "    occupied_prob = len(occupied_inputs) / len(inputs)\n",
    "    not_occupied_prob = len(not_occupied_inputs) / len(targets)\n",
    "\n",
    "    occupied_distributions = {}\n",
    "    for column in inputs.columns:\n",
    "        occupied_distributions[column] = fit_distribution(occupied_inputs[column])\n",
    "    \n",
    "    not_occupied_distributions = {}\n",
    "    for column in inputs.columns:\n",
    "        not_occupied_distributions[column] = fit_distribution(not_occupied_inputs[column])\n",
    "    \n",
    "    correct_targets = 0\n",
    "    for i in range(len(occupied_inputs)):\n",
    "        p1 = probability(inputs.columns, occupied_inputs.iloc[[i]], occupied_prob, occupied_distributions) #occupied conditional prob\n",
    "        p2 = probability(inputs.columns, occupied_inputs.iloc[[i]], not_occupied_prob, not_occupied_distributions) #not occupied conditional prob\n",
    "        if p1 > p2:\n",
    "            correct_targets += 1\n",
    "    \n",
    "    for i in range(len(not_occupied_inputs)):\n",
    "        p1 = probability(inputs.columns, not_occupied_inputs.iloc[[i]], occupied_prob, occupied_distributions) #occupied conditional prob\n",
    "        p2 = probability(inputs.columns, not_occupied_inputs.iloc[[i]], not_occupied_prob, not_occupied_distributions) #not occupied conditional prob\n",
    "        if p1 < p2:\n",
    "            correct_targets += 1\n",
    "\n",
    "    return correct_targets / (len(occupied_inputs) + len(not_occupied_inputs)), occupied_distributions, not_occupied_distributions\n",
    "\n",
    "def evaluate(test_filename, occupied_distributions, not_occupied_distributions):\n",
    "    df = pd.read_csv(test_filename)\n",
    "    correct_targets = 0\n",
    "    if 'id' in df.columns:\n",
    "        df.drop(['id'], axis='columns',inplace=True)\n",
    "    if 'date' in df.columns:\n",
    "        df.drop(['date'], axis='columns',inplace=True)\n",
    "    targets = df['Occupancy']\n",
    "    inputs = df.drop('Occupancy', axis='columns')\n",
    "\n",
    "    occupied_inputs = inputs[targets == 0]\n",
    "    not_occupied_inputs = inputs[targets == 1]\n",
    "    occupied_prob = len(occupied_inputs) / len(inputs)\n",
    "    not_occupied_prob = len(not_occupied_inputs) / len(targets)\n",
    "\n",
    "    correct_targets = 0\n",
    "    for i in range(len(occupied_inputs)):\n",
    "        p1 = probability(inputs.columns, occupied_inputs.iloc[[i]], occupied_prob, occupied_distributions) #occupied conditional prob\n",
    "        p2 = probability(inputs.columns, occupied_inputs.iloc[[i]], not_occupied_prob, not_occupied_distributions) #not occupied conditional prob\n",
    "        if p1 > p2:\n",
    "            correct_targets += 1\n",
    "    \n",
    "    for i in range(len(not_occupied_inputs)):\n",
    "        p1 = probability(inputs.columns, not_occupied_inputs.iloc[[i]], occupied_prob, occupied_distributions) #occupied conditional prob\n",
    "        p2 = probability(inputs.columns, not_occupied_inputs.iloc[[i]], not_occupied_prob, not_occupied_distributions) #not occupied conditional prob\n",
    "        if p1 < p2:\n",
    "            correct_targets += 1\n",
    "\n",
    "    return correct_targets / (len(occupied_inputs) + len(not_occupied_inputs))"
   ]
  },
  {
   "cell_type": "code",
   "execution_count": 12,
   "id": "4de432a0",
   "metadata": {},
   "outputs": [
    {
     "name": "stdout",
     "output_type": "stream",
     "text": [
      "Training data result, Accuracy:  0.9788775635515167\n",
      "Test 1 data result,   Accuracy:  0.9774859287054409\n",
      "Test 2 data result,   Accuracy:  0.9869770303527482\n"
     ]
    }
   ],
   "source": [
    "acc, occupied_dist, not_occupied_dist = train(\"./occupancy_data/datatraining.csv\")\n",
    "print(\"Training data result, Accuracy: \", acc)\n",
    "print(\"Test 1 data result,   Accuracy: \", evaluate(\"./occupancy_data/datatest.csv\", occupied_dist, not_occupied_dist))\n",
    "print(\"Test 2 data result,   Accuracy: \", evaluate(\"./occupancy_data/datatest2.csv\", occupied_dist, not_occupied_dist))"
   ]
  }
 ],
 "metadata": {
  "kernelspec": {
   "display_name": "Python 3 (ipykernel)",
   "language": "python",
   "name": "python3"
  },
  "language_info": {
   "codemirror_mode": {
    "name": "ipython",
    "version": 3
   },
   "file_extension": ".py",
   "mimetype": "text/x-python",
   "name": "python",
   "nbconvert_exporter": "python",
   "pygments_lexer": "ipython3",
   "version": "3.8.2"
  }
 },
 "nbformat": 4,
 "nbformat_minor": 5
}
